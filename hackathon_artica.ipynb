{
 "cells": [
  {
   "cell_type": "code",
   "execution_count": 414,
   "metadata": {},
   "outputs": [
    {
     "name": "stdout",
     "output_type": "stream",
     "text": [
      "Step_allowance=5\n",
      "Coal,2\n",
      "0,1\n",
      "2,4\n",
      "Fish,1\n",
      "0,3\n",
      "Scrap_metal,1\n",
      "2,0\n",
      "Quota=2,1,0\n",
      "Quota_multiplier=2\n",
      "map_size=3,5\n",
      "S,S,I,I,I\n",
      "S,S,TS,TS,M\n",
      "S,M,TS,S,S\n"
     ]
    }
   ],
   "source": [
    "from array import array\n",
    "import numpy as np\n",
    "from asyncio.windows_events import NULL\n",
    "\n",
    "InputArr = []\n",
    "\n",
    "with open('test.txt') as f:\n",
    "    newline_break = \"\"\n",
    "    for readline in f:\n",
    "        line_strip = readline.strip()\n",
    "        line = NULL\n",
    "        if line_strip:\n",
    "            line = line_strip\n",
    "        if line != NULL:\n",
    "            InputArr.append(line)\n",
    "            print(line)\n"
   ]
  },
  {
   "cell_type": "code",
   "execution_count": 415,
   "metadata": {},
   "outputs": [
    {
     "name": "stdout",
     "output_type": "stream",
     "text": [
      "1\n",
      "['2', '1', '0']\n",
      "2\n",
      "[['S', 'S', 'I', 'I', 'I'], ['S', 'S', 'TS', 'TS', 'M'], ['S', 'M', 'TS', 'S', 'S']]\n"
     ]
    }
   ],
   "source": [
    "# Getting usefule Info\n",
    "from operator import indexOf\n",
    "\n",
    "\n",
    "tempArr = InputArr.copy()\n",
    "allowance_ln = InputArr[0]\n",
    "\n",
    "tempArr.remove(InputArr[0])\n",
    "step_allowance = allowance_ln[allowance_ln.index(\"=\")+1:allowance_ln.__len__()]\n",
    "\n",
    "\n",
    "coal_ln = tempArr.pop(0)\n",
    "coalAmount = int(coal_ln[coal_ln.index(\",\")+1:coal_ln.__len__()])\n",
    "\n",
    "\n",
    "\n",
    "coalArr = []\n",
    "fishArr = []\n",
    "scrapArr = []\n",
    "\n",
    "if coalAmount != 0:\n",
    "    for pos in range(0,coalAmount):\n",
    "        coalArr.append(tempArr.pop(0).split(\",\"))\n",
    "        coalArr[pos] = list(map(int,coalArr[pos]))\n",
    "\n",
    "fish_ln = tempArr.pop(0)\n",
    "fishAmount = int(fish_ln[fish_ln.index(\",\")+1:fish_ln.__len__()])\n",
    "\n",
    "\n",
    "if fishAmount != 0:\n",
    "    for pos in range(0,fishAmount):\n",
    "        fishArr.append(tempArr.pop(0).split(\",\"))\n",
    "        fishArr[pos] = list(map(int,fishArr[pos]))\n",
    "\n",
    "scrap_ln = tempArr.pop(0)\n",
    "scrapAmount = int(scrap_ln[scrap_ln.index(\",\")+1:scrap_ln.__len__()])\n",
    "\n",
    "print(scrapAmount)\n",
    "\n",
    "if scrapAmount != 0:\n",
    "    for pos in range(0,scrapAmount):\n",
    "        scrapArr.append(tempArr.pop(0).split(\",\"))\n",
    "        scrapArr[pos] = list(map(int,scrapArr[pos]))\n",
    "\n",
    "#Quota\n",
    "qoataLn = tempArr.pop(0)\n",
    "quotaArr = qoataLn[indexOf(qoataLn,\"=\")+1:qoataLn.__len__()].split(\",\")\n",
    "print(quotaArr)\n",
    "#quotaMultiplier\n",
    "quotaMultLn = tempArr.pop(0)\n",
    "quotaMult=quotaMultLn[indexOf(quotaMultLn,\"=\")+1:quotaMultLn.__len__()]\n",
    "print(quotaMult)\n",
    "\n",
    "\n",
    "#\n",
    "map_ln = tempArr.pop(0)\n",
    "map_DM = map_ln[indexOf(map_ln,\"=\")+1:map_ln.__len__()].split(\",\")\n",
    "r = int(map_DM[0])\n",
    "c = int(map_DM[1])\n",
    "\n",
    "ArrMap = []\n",
    "\n",
    "for pos in range(0,r):\n",
    "    points = tempArr.pop(0)\n",
    "    ArrMap.append(points.split(\",\"))\n",
    "\n",
    "print(ArrMap)"
   ]
  },
  {
   "cell_type": "code",
   "execution_count": 416,
   "metadata": {},
   "outputs": [],
   "source": [
    "##Making class\n",
    "class Square: \n",
    "    def __init__(self,difficulty,resource):\n",
    "        self.difficulty = difficulty\n",
    "        self.resource = resource\n",
    "\n",
    "obj1 = Square(\"S\",\"C\")\n"
   ]
  },
  {
   "cell_type": "code",
   "execution_count": 417,
   "metadata": {},
   "outputs": [
    {
     "name": "stdout",
     "output_type": "stream",
     "text": [
      "3\n",
      "[0, 1]\n",
      "[2, 4]\n"
     ]
    },
    {
     "data": {
      "text/plain": [
       "[[<__main__.Square at 0x2656b9b5400>,\n",
       "  <__main__.Square at 0x2656b9b5280>,\n",
       "  <__main__.Square at 0x2656c6a2b50>,\n",
       "  <__main__.Square at 0x2656c6a2970>,\n",
       "  <__main__.Square at 0x2656c6a2f40>],\n",
       " [<__main__.Square at 0x2656c6a2df0>,\n",
       "  <__main__.Square at 0x2656c593850>,\n",
       "  <__main__.Square at 0x2656c593ca0>,\n",
       "  <__main__.Square at 0x2656c593610>,\n",
       "  <__main__.Square at 0x2656c593310>],\n",
       " [<__main__.Square at 0x2656c593160>,\n",
       "  <__main__.Square at 0x2656c5932b0>,\n",
       "  <__main__.Square at 0x2656c593af0>,\n",
       "  <__main__.Square at 0x2656c5936a0>,\n",
       "  <__main__.Square at 0x2656b966430>]]"
      ]
     },
     "execution_count": 417,
     "metadata": {},
     "output_type": "execute_result"
    }
   ],
   "source": [
    "ArrClassMap = []\n",
    "\n",
    "print(r)\n",
    "for row in range(0,r):\n",
    "    ArrRow = []\n",
    "    for col in range(0,c):\n",
    "        if coalArr.__contains__([row,col]):\n",
    "           \n",
    "            print([row,col])\n",
    "            ArrRow.append(Square(ArrMap[row][col],\"C\"))\n",
    "            continue\n",
    "        if fishArr.__contains__([row,col]):\n",
    "           \n",
    "            ArrRow.append(Square(ArrMap[row][col],\"F\"))\n",
    "            continue\n",
    "        if scrapArr.__contains__([row,col]):\n",
    "       \n",
    "            ArrRow.append(Square(ArrMap[row][col],\"S\"))\n",
    "            continue\n",
    "        ArrRow.append(Square(ArrMap[row][col],0))\n",
    "    ArrClassMap.append(ArrRow)\n",
    "\n",
    "ArrClassMap"
   ]
  },
  {
   "cell_type": "code",
   "execution_count": 418,
   "metadata": {},
   "outputs": [
    {
     "ename": "TypeError",
     "evalue": "list indices must be integers or slices, not tuple",
     "output_type": "error",
     "traceback": [
      "\u001b[1;31m---------------------------------------------------------------------------\u001b[0m",
      "\u001b[1;31mTypeError\u001b[0m                                 Traceback (most recent call last)",
      "\u001b[1;32m~\\AppData\\Local\\Temp/ipykernel_31460/2809646785.py\u001b[0m in \u001b[0;36m<module>\u001b[1;34m\u001b[0m\n\u001b[0;32m     33\u001b[0m \u001b[1;33m\u001b[0m\u001b[0m\n\u001b[0;32m     34\u001b[0m \u001b[1;33m\u001b[0m\u001b[0m\n\u001b[1;32m---> 35\u001b[1;33m \u001b[0mnextTile\u001b[0m\u001b[1;33m(\u001b[0m\u001b[1;33m[\u001b[0m\u001b[1;36m0\u001b[0m\u001b[1;33m,\u001b[0m\u001b[1;36m0\u001b[0m\u001b[1;33m]\u001b[0m\u001b[1;33m,\u001b[0m\u001b[1;33m[\u001b[0m\u001b[1;36m3\u001b[0m\u001b[1;33m,\u001b[0m\u001b[1;36m5\u001b[0m\u001b[1;33m]\u001b[0m\u001b[1;33m,\u001b[0m\u001b[0mpath\u001b[0m\u001b[1;33m)\u001b[0m\u001b[1;33m\u001b[0m\u001b[1;33m\u001b[0m\u001b[0m\n\u001b[0m\u001b[0;32m     36\u001b[0m \u001b[1;33m\u001b[0m\u001b[0m\n\u001b[0;32m     37\u001b[0m \u001b[1;33m\u001b[0m\u001b[0m\n",
      "\u001b[1;32m~\\AppData\\Local\\Temp/ipykernel_31460/2809646785.py\u001b[0m in \u001b[0;36mnextTile\u001b[1;34m(currentTile, destination, path)\u001b[0m\n\u001b[0;32m     25\u001b[0m         \u001b[0mnewRow\u001b[0m\u001b[1;33m=\u001b[0m\u001b[0mcurrentTile\u001b[0m\u001b[1;33m[\u001b[0m\u001b[1;36m0\u001b[0m\u001b[1;33m]\u001b[0m\u001b[1;33m+\u001b[0m\u001b[1;36m1\u001b[0m\u001b[1;33m\u001b[0m\u001b[1;33m\u001b[0m\u001b[0m\n\u001b[0;32m     26\u001b[0m \u001b[1;33m\u001b[0m\u001b[0m\n\u001b[1;32m---> 27\u001b[1;33m     \u001b[1;32mif\u001b[0m \u001b[0mArrClassMap\u001b[0m\u001b[1;33m[\u001b[0m\u001b[0mnewCol\u001b[0m\u001b[1;33m,\u001b[0m\u001b[0mcurrentTile\u001b[0m\u001b[1;33m[\u001b[0m\u001b[1;36m0\u001b[0m\u001b[1;33m]\u001b[0m\u001b[1;33m]\u001b[0m\u001b[1;33m.\u001b[0m\u001b[0mdifficulty\u001b[0m\u001b[1;33m(\u001b[0m\u001b[1;33m)\u001b[0m\u001b[1;33m>\u001b[0m\u001b[0mArrClassMap\u001b[0m\u001b[1;33m[\u001b[0m\u001b[0mcurrentTile\u001b[0m\u001b[1;33m[\u001b[0m\u001b[1;36m1\u001b[0m\u001b[1;33m]\u001b[0m\u001b[1;33m,\u001b[0m\u001b[0mnewRow\u001b[0m\u001b[1;33m]\u001b[0m\u001b[1;33m.\u001b[0m\u001b[0mdifficulty\u001b[0m\u001b[1;33m(\u001b[0m\u001b[1;33m)\u001b[0m\u001b[1;33m:\u001b[0m\u001b[1;33m\u001b[0m\u001b[1;33m\u001b[0m\u001b[0m\n\u001b[0m\u001b[0;32m     28\u001b[0m         \u001b[0mcurrentTile\u001b[0m\u001b[1;33m[\u001b[0m\u001b[1;36m1\u001b[0m\u001b[1;33m]\u001b[0m\u001b[1;33m=\u001b[0m\u001b[0mnewRow\u001b[0m\u001b[1;33m\u001b[0m\u001b[1;33m\u001b[0m\u001b[0m\n\u001b[0;32m     29\u001b[0m     \u001b[1;32melse\u001b[0m\u001b[1;33m:\u001b[0m \u001b[0mcurrentTile\u001b[0m\u001b[1;33m[\u001b[0m\u001b[1;36m0\u001b[0m\u001b[1;33m]\u001b[0m\u001b[1;33m=\u001b[0m\u001b[0mnewCol\u001b[0m\u001b[1;33m\u001b[0m\u001b[1;33m\u001b[0m\u001b[0m\n",
      "\u001b[1;31mTypeError\u001b[0m: list indices must be integers or slices, not tuple"
     ]
    }
   ],
   "source": [
    "#Pathfinding Alghorithm\n",
    "\n",
    "##currentTile[r,c]\n",
    "##destination[r,c]\n",
    "##path[[r,c],...]\n",
    "\n",
    "finalPath = []\n",
    "path = []\n",
    "\n",
    "def nextTile(currentTile,destination,path):\n",
    "    if currentTile==destination:\n",
    "        return path\n",
    "    ##Direction To move\n",
    "    directionRow = destination[0]-currentTile[0]\n",
    "    directionCol = destination[1]-currentTile[1]\n",
    "\n",
    "    ##Move in Direction\n",
    "    if directionCol<0:\n",
    "        newCol=currentTile[1]-1\n",
    "    elif directionCol>0:\n",
    "        newCol=currentTile[1]+1\n",
    "\n",
    "    if directionRow<0:\n",
    "        newRow=currentTile[0]-1\n",
    "    elif directionCol>0:\n",
    "        newRow=currentTile[0]+1\n",
    "\n",
    "    if ArrClassMap[newCol,currentTile[0]].difficulty()>ArrClassMap[currentTile[1],newRow].difficulty():\n",
    "        currentTile[1]=newRow\n",
    "    else: currentTile[0]=newCol\n",
    "\n",
    "    path.append(currentTile)\n",
    "    nextTile(currentTile,destination,path)\n",
    "\n",
    "\n",
    "nextTile([0,0],[3,5],path)   \n",
    "\n",
    "\n",
    "\n",
    "def rec(currentPoint):\n",
    "\n",
    "    if currentPoint\n",
    "\n",
    "\n"
   ]
  }
 ],
 "metadata": {
  "kernelspec": {
   "display_name": "Python 3.9.7 ('base')",
   "language": "python",
   "name": "python3"
  },
  "language_info": {
   "codemirror_mode": {
    "name": "ipython",
    "version": 3
   },
   "file_extension": ".py",
   "mimetype": "text/x-python",
   "name": "python",
   "nbconvert_exporter": "python",
   "pygments_lexer": "ipython3",
   "version": "3.9.7"
  },
  "orig_nbformat": 4,
  "vscode": {
   "interpreter": {
    "hash": "dc79205d6004f7d832ecc52c21573dee48d50986772725eb46055dbb7d7aeef2"
   }
  }
 },
 "nbformat": 4,
 "nbformat_minor": 2
}
