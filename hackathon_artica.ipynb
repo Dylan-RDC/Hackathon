{
 "cells": [
  {
   "cell_type": "code",
   "execution_count": 14,
   "metadata": {},
   "outputs": [
    {
     "name": "stdout",
     "output_type": "stream",
     "text": [
      "Step_allowance=5\n",
      "Coal,2\n",
      "0,1\n",
      "2,4\n",
      "Fish,1\n",
      "0,3\n",
      "Scrap_metal,1\n",
      "2,0\n",
      "Quota=2,1,0\n",
      "Quota_multiplier=2\n",
      "map_size=3x5\n",
      "S,S,I,I,I\n",
      "S,S,TS,TS,M\n",
      "S,M,TS,S,S\n"
     ]
    }
   ],
   "source": [
    "from array import array\n",
    "import numpy as np\n",
    "from asyncio.windows_events import NULL\n",
    "\n",
    "InputArr = []\n",
    "\n",
    "with open('test.txt') as f:\n",
    "    newline_break = \"\"\n",
    "    for readline in f:\n",
    "        line_strip = readline.strip()\n",
    "        line = NULL\n",
    "        if line_strip:\n",
    "            line = line_strip\n",
    "        if line != NULL:\n",
    "            InputArr.append(line)\n",
    "            print(line)\n"
   ]
  },
  {
   "cell_type": "code",
   "execution_count": 15,
   "metadata": {},
   "outputs": [],
   "source": [
    "# Getting usefule Info\n",
    "allowance_ln = InputArr[0]\n",
    "\n",
    "# print(line.index(\"=\"))\n",
    "\n",
    "step_allowance = allowance_ln[allowance_ln.index(\"=\")+1:allowance_ln.__len__()]\n",
    "\n",
    "coal_ln = InputArr[1]\n",
    "coalAmount = InputArr[1][coal_ln.index(\",\")+1:coal_ln.__len__()]\n",
    "\n",
    "\n",
    "\n",
    "\n",
    "\n",
    "\n",
    "# step_allowance = arr[0][arr[0]]\n",
    "\n",
    "# step_allowance\n",
    "\n"
   ]
  }
 ],
 "metadata": {
  "kernelspec": {
   "display_name": "Python 3.9.7 ('base')",
   "language": "python",
   "name": "python3"
  },
  "language_info": {
   "codemirror_mode": {
    "name": "ipython",
    "version": 3
   },
   "file_extension": ".py",
   "mimetype": "text/x-python",
   "name": "python",
   "nbconvert_exporter": "python",
   "pygments_lexer": "ipython3",
   "version": "3.9.7"
  },
  "orig_nbformat": 4,
  "vscode": {
   "interpreter": {
    "hash": "dc79205d6004f7d832ecc52c21573dee48d50986772725eb46055dbb7d7aeef2"
   }
  }
 },
 "nbformat": 4,
 "nbformat_minor": 2
}
