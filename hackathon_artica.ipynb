{
 "cells": [
  {
   "cell_type": "code",
   "execution_count": 89,
   "metadata": {},
   "outputs": [
    {
     "name": "stdout",
     "output_type": "stream",
     "text": [
      "Step_allowance=5\n",
      "Coal,2\n",
      "0,1\n",
      "2,4\n",
      "Fish,1\n",
      "0,3\n",
      "Scrap_metal,1\n",
      "2,0\n",
      "Quota=2,1,0\n",
      "Quota_multiplier=2\n",
      "map_size=3x5\n",
      "S,S,I,I,I\n",
      "S,S,TS,TS,M\n",
      "S,M,TS,S,S\n"
     ]
    }
   ],
   "source": [
    "from array import array\n",
    "import numpy as np\n",
    "from asyncio.windows_events import NULL\n",
    "\n",
    "InputArr = []\n",
    "\n",
    "with open('test.txt') as f:\n",
    "    newline_break = \"\"\n",
    "    for readline in f:\n",
    "        line_strip = readline.strip()\n",
    "        line = NULL\n",
    "        if line_strip:\n",
    "            line = line_strip\n",
    "        if line != NULL:\n",
    "            InputArr.append(line)\n",
    "            print(line)\n"
   ]
  },
  {
   "cell_type": "code",
   "execution_count": 90,
   "metadata": {},
   "outputs": [
    {
     "name": "stdout",
     "output_type": "stream",
     "text": [
      "['0,1', '2,4', 'Fish,1', '0,3', 'Scrap_metal,1', '2,0', 'Quota=2,1,0', 'Quota_multiplier=2', 'map_size=3x5', 'S,S,I,I,I', 'S,S,TS,TS,M', 'S,M,TS,S,S']\n",
      "['2,4', 'Fish,1', '0,3', 'Scrap_metal,1', '2,0', 'Quota=2,1,0', 'Quota_multiplier=2', 'map_size=3x5', 'S,S,I,I,I', 'S,S,TS,TS,M', 'S,M,TS,S,S']\n",
      "['Quota=2,1,0', 'Quota_multiplier=2', 'map_size=3x5', 'S,S,I,I,I', 'S,S,TS,TS,M', 'S,M,TS,S,S']\n"
     ]
    }
   ],
   "source": [
    "# Getting usefule Info\n",
    "tempArr = InputArr.copy()\n",
    "allowance_ln = InputArr[0]\n",
    "\n",
    "tempArr.remove(InputArr[0])\n",
    "step_allowance = allowance_ln[allowance_ln.index(\"=\")+1:allowance_ln.__len__()]\n",
    "\n",
    "\n",
    "coal_ln = tempArr.pop(0)\n",
    "coalAmount = int(coal_ln[coal_ln.index(\",\")+1:coal_ln.__len__()])\n",
    "\n",
    "\n",
    "\n",
    "coalArr = []\n",
    "fishArr = []\n",
    "scrapArr = []\n",
    "\n",
    "for pos in range(0,coalAmount):\n",
    "    print(tempArr)\n",
    "    coalArr.append(tempArr.pop(0))\n",
    "\n",
    "\n",
    "fish_ln = tempArr.pop(0)\n",
    "fishAmount = int(coal_ln[coal_ln.index(\",\")+1:coal_ln.__len__()])\n",
    "\n",
    "for pos in range(0,fishAmount-1):\n",
    "    fishArr.append(tempArr.pop(0))\n",
    "\n",
    "scrap_ln = tempArr.pop(0)\n",
    "scrapAmount = int(coal_ln[coal_ln.index(\",\")+1:coal_ln.__len__()])\n",
    "\n",
    "\n",
    "for pos in range(0,scrapAmount-1):\n",
    "    scrapArr.append(tempArr.pop(0))\n",
    "\n",
    "\n",
    "\n",
    "\n",
    "\n"
   ]
  },
  {
   "cell_type": "code",
   "execution_count": null,
   "metadata": {},
   "outputs": [],
   "source": []
  }
 ],
 "metadata": {
  "kernelspec": {
   "display_name": "Python 3.9.7 ('base')",
   "language": "python",
   "name": "python3"
  },
  "language_info": {
   "codemirror_mode": {
    "name": "ipython",
    "version": 3
   },
   "file_extension": ".py",
   "mimetype": "text/x-python",
   "name": "python",
   "nbconvert_exporter": "python",
   "pygments_lexer": "ipython3",
   "version": "3.9.7"
  },
  "orig_nbformat": 4,
  "vscode": {
   "interpreter": {
    "hash": "dc79205d6004f7d832ecc52c21573dee48d50986772725eb46055dbb7d7aeef2"
   }
  }
 },
 "nbformat": 4,
 "nbformat_minor": 2
}
