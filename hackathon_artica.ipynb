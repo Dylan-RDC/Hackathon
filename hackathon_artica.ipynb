{
 "cells": [
  {
   "cell_type": "code",
   "execution_count": 2,
   "metadata": {},
   "outputs": [
    {
     "name": "stdout",
     "output_type": "stream",
     "text": [
      "Step_allowance=5\n",
      "Coal,2\n",
      "0,1\n",
      "2,4\n",
      "Fish,1\n",
      "0,3\n",
      "Scrap_metal,1\n",
      "2,0\n",
      "Quota=2,1,0\n",
      "Quota_multiplier=2\n",
      "map_size=3x5\n",
      "S,S,I,I,I\n",
      "S,S,TS,TS,M\n",
      "S,M,TS,S,S\n"
     ]
    }
   ],
   "source": [
    "from array import array\n",
    "import numpy as np\n",
    "from asyncio.windows_events import NULL\n",
    "\n",
    "InputArr = []\n",
    "\n",
    "with open('test.txt') as f:\n",
    "    newline_break = \"\"\n",
    "    for readline in f:\n",
    "        line_strip = readline.strip()\n",
    "        line = NULL\n",
    "        if line_strip:\n",
    "            line = line_strip\n",
    "        if line != NULL:\n",
    "            InputArr.append(line)\n",
    "            print(line)\n"
   ]
  },
  {
   "cell_type": "code",
   "execution_count": 8,
   "metadata": {},
   "outputs": [
    {
     "name": "stdout",
     "output_type": "stream",
     "text": [
      "2\n",
      "3\n",
      "4\n",
      "6\n",
      "['1', '2', '3']\n",
      "=1.1\n"
     ]
    }
   ],
   "source": [
    "# Getting usefule Info\n",
    "from operator import indexOf\n",
    "\n",
    "\n",
    "allowance_ln = InputArr[0]\n",
    "\n",
    "# print(line.index(\"=\"))\n",
    "\n",
    "step_allowance = allowance_ln[allowance_ln.index(\"=\")+1:allowance_ln.__len__()]\n",
    "\n",
    "coal_ln = InputArr[1]\n",
    "\n",
    "coalAmount = int(coal_ln[coal_ln.index(\",\")+1:coal_ln.__len__()])\n",
    "\n",
    "fish_ln = InputArr[1+coalAmount+1]\n",
    "\n",
    "\n",
    "fishAmount = int(fish_ln[fish_ln.index(\",\")+1:fish_ln.__len__()])\n",
    "\n",
    "\n",
    "scrap_ln = InputArr[1+coalAmount+fishAmount+2]\n",
    "\n",
    "scrapAmount = int(scrap_ln[scrap_ln.index(\",\")+1:scrap_ln.__len__()])\n",
    "\n",
    "# ScrapAmount = int(InputArr[1][coal_ln.index(\",\")+1:coal_ln.__len__()])\n",
    "\n",
    "\n",
    "\n",
    "\n",
    "\n",
    "# print(coalAmount)\n",
    "\n",
    "\n",
    "\n",
    "for pos in range(2,2+coalAmount):##coal\n",
    "    #ADD Points to coal Collection\n",
    "    print(pos)\n",
    "\n",
    "\n",
    "\n",
    "for pos in range(1+coalAmount+1,1+coalAmount+1+fishAmount):##fish\n",
    "    #ADD Points to coal Collection\n",
    "    print(pos)\n",
    "\n",
    "\n",
    "for pos in range(1+coalAmount+fishAmount+2,1+coalAmount+fishAmount+2+scrapAmount):##Scrap\n",
    "    #ADD Points to coal Collection\n",
    "    print(pos)\n",
    "\n",
    "\n",
    "# for pos in range():\n",
    "\n",
    "\n",
    "#Quota\n",
    "qoataLn = \"quota=1,2,3\"\n",
    "quotaArr = qoataLn[-5:qoataLn.__len__()].split(\",\")\n",
    "print(quotaArr)\n",
    "#quotaMultiplier\n",
    "quotaMultLn = \"quotadas=1.1\"\n",
    "quotaMult=quotaMultLn[indexOf(quotaMultLn,\"=\"):quotaMultLn.__len__()]\n",
    "print(quotaMult)\n"
   ]
  }
 ],
 "metadata": {
  "kernelspec": {
   "display_name": "Python 3.8.8 ('base')",
   "language": "python",
   "name": "python3"
  },
  "language_info": {
   "codemirror_mode": {
    "name": "ipython",
    "version": 3
   },
   "file_extension": ".py",
   "mimetype": "text/x-python",
   "name": "python",
   "nbconvert_exporter": "python",
   "pygments_lexer": "ipython3",
   "version": "3.8.8"
  },
  "orig_nbformat": 4,
  "vscode": {
   "interpreter": {
    "hash": "36239366649e7294b9be8a8ac7bc36ce5a4385bc9dddcec1961896d4095ee0f8"
   }
  }
 },
 "nbformat": 4,
 "nbformat_minor": 2
}
